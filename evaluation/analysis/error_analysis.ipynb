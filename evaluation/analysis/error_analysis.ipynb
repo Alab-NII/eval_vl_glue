{
 "cells": [
  {
   "cell_type": "markdown",
   "id": "c58e52fd",
   "metadata": {},
   "source": [
    "# Error Analysis\n",
    "This notebook first creates prediction files on the validation set of each task and run.  \n",
    "Then it analyzes those prediction files."
   ]
  },
  {
   "cell_type": "markdown",
   "id": "454d77a9",
   "metadata": {},
   "source": [
    "## Make prediction files\n",
    "We keep these two cell below to show procedures, but actually we ran those commands in the shell because of the long running time."
   ]
  },
  {
   "cell_type": "code",
   "execution_count": null,
   "id": "0fb181b4",
   "metadata": {},
   "outputs": [],
   "source": [
    "# Enumerate the best models that have the minimum losses for each run\n",
    "# A table best_models.txt will be output in the anaysis directory\n",
    "!python enumerate_best_models.py -r ../../vl_models/finetuned > best_models.txt"
   ]
  },
  {
   "cell_type": "code",
   "execution_count": null,
   "id": "4e6f81fd",
   "metadata": {},
   "outputs": [],
   "source": [
    "# Predict labels with those best models\n",
    "# prediction directory will be created in the anaysis directory and \n",
    "# prediction will be stored in the sub-directoryies that corresponds to model directories.\n",
    "# We output strings in dump.log because they are too long to show in a notebook.\n",
    "!CUDA_VISIBLE_DEVICES=0 ./batch_dump.sh best_models.txt > dump.log 2>&1"
   ]
  },
  {
   "cell_type": "markdown",
   "id": "8f205f81",
   "metadata": {},
   "source": [
    "## Calculate the distribution of some metrics\n",
    "We analyze the distributions of sentence lengths and readability here.\n",
    "- Make sentence sets (both solvable, vl-only, bert-only and neither) for each model family from those dump files.\n",
    "- Calculate their statiistics"
   ]
  },
  {
   "cell_type": "code",
   "execution_count": null,
   "id": "e8e8a59f",
   "metadata": {},
   "outputs": [],
   "source": [
    "# We install packages for this analysis before entering the detail\n",
    "# We use textstat to calculate readability\n",
    "!pip install textstat pandas matplotlib"
   ]
  },
  {
   "cell_type": "markdown",
   "id": "0c1177b6",
   "metadata": {},
   "source": [
    "### Make sentence sets"
   ]
  },
  {
   "cell_type": "code",
   "execution_count": 1,
   "id": "e33e9deb",
   "metadata": {},
   "outputs": [],
   "source": [
    "import os\n",
    "import csv\n",
    "import numpy as np\n",
    "from datasets import load_dataset"
   ]
  },
  {
   "cell_type": "code",
   "execution_count": 2,
   "id": "3b88d459",
   "metadata": {},
   "outputs": [],
   "source": [
    "# configuration\n",
    "# We do not use stsb\n",
    "target_tasks = ['cola', 'sst2', 'mrpc', 'qqp','mnli/mnli_m', 'mnli/mnli_mm', 'qnli',  'rte', 'wnli']\n",
    "# keys for sentences in each task\n",
    "keys_for_tasks = {\n",
    "    \"cola\": (\"sentence\", None),\n",
    "    \"mnli\": (\"premise\", \"hypothesis\"),\n",
    "    \"mrpc\": (\"sentence1\", \"sentence2\"),\n",
    "    \"qnli\": (\"question\", \"sentence\"),\n",
    "    \"qqp\": (\"question1\", \"question2\"),\n",
    "    \"rte\": (\"sentence1\", \"sentence2\"),\n",
    "    \"sst2\": (\"sentence\", None),\n",
    "    \"stsb\": (\"sentence1\", \"sentence2\"),\n",
    "    \"wnli\": (\"sentence1\", \"sentence2\"),\n",
    "    'cc': ('sentence', None)\n",
    "}\n",
    "\n",
    "target_lm = 'bert-base-uncased'\n",
    "target_lm_runs = ['0', '1', '2']\n",
    "target_models = ['ctrl_visual_bert',  'ctrl_uniter', 'ctrl_vl_bert', 'ctrl_lxmert', 'ctrl_vilbert']\n",
    "target_runs = ['1', '2', '3']\n",
    "# Since we did not keep checkpoints on each epoch for our V&L models in the run 0 and \n",
    "# we were not able to make model prediction, we retrained V&L models with the same random seed and saved them as run 3.\n",
    "# Use the appropriate target_runs (which would be ['0', '1', '2']) when you use this notebook.\n",
    "target_split = 'valid'\n",
    "\n",
    "# We split problems in a task into those sentence sets according to successful rate:\n",
    "set_names = ['both', 'bert', 'vl', 'neither']\n",
    "\n",
    "# path to a directory contains predictions\n",
    "root_path = 'prediction'\n",
    "# path to output the text files of sentence sets\n",
    "output_dir  = 'sentence_sets'\n",
    "# We consider successful if accuracy is higher than this value for each problem.\n",
    "# 0.5 means correct two or three times when the number of runs is three,\n",
    "successful_threshold = 0.5"
   ]
  },
  {
   "cell_type": "code",
   "execution_count": 3,
   "id": "5fa24b10",
   "metadata": {},
   "outputs": [
    {
     "name": "stderr",
     "output_type": "stream",
     "text": [
      "Reusing dataset glue (/home/iki/.cache/huggingface/datasets/glue/cola/1.0.0/dacbe3125aa31d7f70367a07a8a9e72a5a0bfeb5fc42e75c9db75b96da6053ad)\n"
     ]
    },
    {
     "data": {
      "application/vnd.jupyter.widget-view+json": {
       "model_id": "24495f1a87c5436f942500eaf51b001a",
       "version_major": 2,
       "version_minor": 0
      },
      "text/plain": [
       "  0%|          | 0/3 [00:00<?, ?it/s]"
      ]
     },
     "metadata": {},
     "output_type": "display_data"
    },
    {
     "name": "stderr",
     "output_type": "stream",
     "text": [
      "Reusing dataset glue (/home/iki/.cache/huggingface/datasets/glue/sst2/1.0.0/dacbe3125aa31d7f70367a07a8a9e72a5a0bfeb5fc42e75c9db75b96da6053ad)\n"
     ]
    },
    {
     "data": {
      "application/vnd.jupyter.widget-view+json": {
       "model_id": "059f27ee1fa94096b13727affcb2c51c",
       "version_major": 2,
       "version_minor": 0
      },
      "text/plain": [
       "  0%|          | 0/3 [00:00<?, ?it/s]"
      ]
     },
     "metadata": {},
     "output_type": "display_data"
    },
    {
     "name": "stderr",
     "output_type": "stream",
     "text": [
      "Reusing dataset glue (/home/iki/.cache/huggingface/datasets/glue/mrpc/1.0.0/dacbe3125aa31d7f70367a07a8a9e72a5a0bfeb5fc42e75c9db75b96da6053ad)\n"
     ]
    },
    {
     "data": {
      "application/vnd.jupyter.widget-view+json": {
       "model_id": "7d00e7bc3dc9470b967ae22feebeaa0e",
       "version_major": 2,
       "version_minor": 0
      },
      "text/plain": [
       "  0%|          | 0/3 [00:00<?, ?it/s]"
      ]
     },
     "metadata": {},
     "output_type": "display_data"
    },
    {
     "name": "stderr",
     "output_type": "stream",
     "text": [
      "Reusing dataset glue (/home/iki/.cache/huggingface/datasets/glue/qqp/1.0.0/dacbe3125aa31d7f70367a07a8a9e72a5a0bfeb5fc42e75c9db75b96da6053ad)\n"
     ]
    },
    {
     "data": {
      "application/vnd.jupyter.widget-view+json": {
       "model_id": "d168870ddf7942f0abd88c970ecd68d7",
       "version_major": 2,
       "version_minor": 0
      },
      "text/plain": [
       "  0%|          | 0/3 [00:00<?, ?it/s]"
      ]
     },
     "metadata": {},
     "output_type": "display_data"
    },
    {
     "name": "stderr",
     "output_type": "stream",
     "text": [
      "Reusing dataset glue (/home/iki/.cache/huggingface/datasets/glue/mnli/1.0.0/dacbe3125aa31d7f70367a07a8a9e72a5a0bfeb5fc42e75c9db75b96da6053ad)\n"
     ]
    },
    {
     "data": {
      "application/vnd.jupyter.widget-view+json": {
       "model_id": "bba7540610ad4af695c851d0cef8edbb",
       "version_major": 2,
       "version_minor": 0
      },
      "text/plain": [
       "  0%|          | 0/5 [00:00<?, ?it/s]"
      ]
     },
     "metadata": {},
     "output_type": "display_data"
    },
    {
     "name": "stderr",
     "output_type": "stream",
     "text": [
      "Reusing dataset glue (/home/iki/.cache/huggingface/datasets/glue/mnli/1.0.0/dacbe3125aa31d7f70367a07a8a9e72a5a0bfeb5fc42e75c9db75b96da6053ad)\n"
     ]
    },
    {
     "data": {
      "application/vnd.jupyter.widget-view+json": {
       "model_id": "4ddc666c84c54ffa8a2f6e8b57896bb1",
       "version_major": 2,
       "version_minor": 0
      },
      "text/plain": [
       "  0%|          | 0/5 [00:00<?, ?it/s]"
      ]
     },
     "metadata": {},
     "output_type": "display_data"
    },
    {
     "name": "stderr",
     "output_type": "stream",
     "text": [
      "Reusing dataset glue (/home/iki/.cache/huggingface/datasets/glue/qnli/1.0.0/dacbe3125aa31d7f70367a07a8a9e72a5a0bfeb5fc42e75c9db75b96da6053ad)\n"
     ]
    },
    {
     "data": {
      "application/vnd.jupyter.widget-view+json": {
       "model_id": "c953fa07195c41d69dc08e83a7a39430",
       "version_major": 2,
       "version_minor": 0
      },
      "text/plain": [
       "  0%|          | 0/3 [00:00<?, ?it/s]"
      ]
     },
     "metadata": {},
     "output_type": "display_data"
    },
    {
     "name": "stderr",
     "output_type": "stream",
     "text": [
      "Reusing dataset glue (/home/iki/.cache/huggingface/datasets/glue/rte/1.0.0/dacbe3125aa31d7f70367a07a8a9e72a5a0bfeb5fc42e75c9db75b96da6053ad)\n"
     ]
    },
    {
     "data": {
      "application/vnd.jupyter.widget-view+json": {
       "model_id": "d637843f6dc44d27a7c04ae64e651ef1",
       "version_major": 2,
       "version_minor": 0
      },
      "text/plain": [
       "  0%|          | 0/3 [00:00<?, ?it/s]"
      ]
     },
     "metadata": {},
     "output_type": "display_data"
    },
    {
     "name": "stderr",
     "output_type": "stream",
     "text": [
      "Reusing dataset glue (/home/iki/.cache/huggingface/datasets/glue/wnli/1.0.0/dacbe3125aa31d7f70367a07a8a9e72a5a0bfeb5fc42e75c9db75b96da6053ad)\n"
     ]
    },
    {
     "data": {
      "application/vnd.jupyter.widget-view+json": {
       "model_id": "15bed042fc8d4a0680fe8c101ff3f3d7",
       "version_major": 2,
       "version_minor": 0
      },
      "text/plain": [
       "  0%|          | 0/3 [00:00<?, ?it/s]"
      ]
     },
     "metadata": {},
     "output_type": "display_data"
    }
   ],
   "source": [
    "# Load sentences from the GLUE tasks\n",
    "datasets = {}\n",
    "for task in target_tasks:\n",
    "    if task.startswith('mnli'):\n",
    "        dataset = load_dataset('glue', 'mnli')\n",
    "        datasets['mnli/mnli_m'] = dataset['validation_matched']\n",
    "        datasets['mnli/mnli_mm'] = dataset['validation_mismatched']\n",
    "    else:\n",
    "        datasets[task] = load_dataset('glue', task)['validation']"
   ]
  },
  {
   "cell_type": "code",
   "execution_count": 4,
   "id": "cc5580dc",
   "metadata": {},
   "outputs": [],
   "source": [
    "def summarize_across_runs(root_path, model, task, runs, split):\n",
    "    \"\"\"This funcition reads the prefiction file of runs and returns their summay.\n",
    "    Returns a list whose items are the summaries of each problem, {_id, sum, total, values}\n",
    "    \"\"\"\n",
    "    # subtask for MNLI's ma and mm\n",
    "    subtask = task\n",
    "    if '/' in task:\n",
    "        task, subtask = task.split('/')\n",
    "    \n",
    "    # is_correct is a dict whose keys are problem_id and \n",
    "    # values are a list of the correctness of runs\n",
    "    is_correct = {}\n",
    "    for run in runs:\n",
    "        file_name = f'{split}_results_{subtask}.txt'\n",
    "        path = os.path.join(root_path, model, task, run, file_name)\n",
    "        with open(path, 'r') as f:\n",
    "            reader = csv.reader(f, delimiter='\\t')\n",
    "            header = next(reader) # ['id', 'predction', 'label']\n",
    "            for row in reader:\n",
    "                is_correct.setdefault(int(row[0]), []).append(row[1]==row[2])\n",
    "    \n",
    "    len_runs = len(runs)\n",
    "    results = []\n",
    "    for key, val in sorted(is_correct.items(), key=lambda kv: kv[0]):\n",
    "        if len(val) != len_runs:\n",
    "            raise Exception(f'total number of runs is not matched for {key}')\n",
    "        results.append({'_id': key, 'sum': sum(val), 'total': len_runs, 'values': val})\n",
    "    return results"
   ]
  },
  {
   "cell_type": "code",
   "execution_count": 5,
   "id": "76fe6caf",
   "metadata": {},
   "outputs": [],
   "source": [
    "def split_into_sets(summary, target_tasks, target_lm, target_models, successful_threshold):\n",
    "    \"\"\"Classify problems and get the corpus for each task and model\n",
    "    The corpora order is \"both_corpus, only_bert_corpus, only_vl_corpus, neither_corpus\"\n",
    "    \"\"\"\n",
    "    \n",
    "    # Classify problems based on two summaries.\n",
    "    def _classify_problems(summary_a, summary_b, successful_threshold):\n",
    "        both_correct = []\n",
    "        only_a = []\n",
    "        only_b = []\n",
    "        both_wrong = []\n",
    "        for a, b in zip(summary_a, summary_b):\n",
    "            if a['_id'] != b['_id']:\n",
    "                raise Exception('key unmatched')\n",
    "            _id = a['_id']\n",
    "            a_correct = a['sum'] / a['total'] >= successful_threshold\n",
    "            b_correct = b['sum'] / b['total'] >= successful_threshold\n",
    "            if a_correct and b_correct:\n",
    "                both_correct.append(_id)\n",
    "            elif not a_correct and b_correct:\n",
    "                only_b.append(_id)\n",
    "            elif a_correct and not b_correct:\n",
    "                only_a.append(_id)\n",
    "            else:\n",
    "                both_wrong.append(_id)\n",
    "        total = len(both_correct) + len(only_a) + len(only_b) + len(both_wrong)\n",
    "        return {\n",
    "            'total': total,\n",
    "            'both_correct': len(both_correct) / total,\n",
    "            'only_a': len(only_a) / total,\n",
    "            'only_b': len(only_b) / total,\n",
    "            'both_wrong': len(both_wrong) / total,\n",
    "            'ids': (both_correct, only_a, only_b, both_wrong),\n",
    "        }\n",
    "    \n",
    "    classified_sets = {}\n",
    "    for task in target_tasks:\n",
    "        classified_sets[task] = {}\n",
    "        for model_name in target_models:\n",
    "            classified_sets[task][model_name] = {set_name:[] for set_name in set_names}\n",
    "            ids = _classify_problems(summary[task][target_lm], summary[task][model_name], successful_threshold)['ids']\n",
    "            for set_name, problem_ids in zip(set_names, ids):\n",
    "                for problem_id in problem_ids:\n",
    "                    for key in keys_for_tasks[task.split('/')[0]]:\n",
    "                        if key is not None:\n",
    "                            classified_sets[task][model_name][set_name].append(datasets[task][problem_id][key])\n",
    "    return classified_sets"
   ]
  },
  {
   "cell_type": "code",
   "execution_count": 6,
   "id": "a26a761f",
   "metadata": {},
   "outputs": [],
   "source": [
    "# Collect all summaries\n",
    "summary = {}\n",
    "for task in target_tasks:\n",
    "    summary[task] = {}\n",
    "    summary[task][target_lm] = summarize_across_runs(root_path, target_lm, task, target_lm_runs, target_split)\n",
    "    for model_name in target_models:\n",
    "        summary[task][model_name] = summarize_across_runs(root_path, model_name, task, target_runs, target_split)"
   ]
  },
  {
   "cell_type": "code",
   "execution_count": 7,
   "id": "82c976ce",
   "metadata": {},
   "outputs": [],
   "source": [
    "# Get corpora, \n",
    "# We can access a corpus by specifying task, model, set_name,\n",
    "# such as corpora['cola']['ctrl_vilbert']['both']\n",
    "corpora = split_into_sets(summary, target_tasks, target_lm, target_models, successful_threshold)"
   ]
  },
  {
   "cell_type": "code",
   "execution_count": 8,
   "id": "2e59742e",
   "metadata": {},
   "outputs": [],
   "source": [
    "# Save sentence sets to check them.\n",
    "if not os.path.exists(output_dir):\n",
    "    os.mkdir(output_dir)\n",
    "for task in target_tasks:\n",
    "    for model_name in target_models:\n",
    "        for set_name in set_names:\n",
    "            corpus = corpora[task][model_name][set_name]\n",
    "            file_name = f'{task}-{model_name}-{set_name}.txt'.replace('/', '_')\n",
    "            path = os.path.join(output_dir, file_name)\n",
    "            with open(path, 'w') as f:\n",
    "                f.write('\\n'.join(corpus))\n",
    "                f.write('\\n')"
   ]
  },
  {
   "cell_type": "markdown",
   "id": "bdd8cd3d",
   "metadata": {},
   "source": [
    "### Percentage of sentence sets on each V&L models"
   ]
  },
  {
   "cell_type": "code",
   "execution_count": 9,
   "id": "4ac523d3",
   "metadata": {},
   "outputs": [
    {
     "name": "stdout",
     "output_type": "stream",
     "text": [
      "model\tboth\tbert\tvl\tneither\n",
      "ctrl_visual_bert\t0.722\t0.080\t0.049\t0.150\n",
      "ctrl_uniter\t0.717\t0.085\t0.050\t0.148\n",
      "ctrl_vl_bert\t0.699\t0.102\t0.053\t0.146\n",
      "ctrl_lxmert\t0.690\t0.111\t0.065\t0.134\n",
      "ctrl_vilbert\t0.710\t0.091\t0.048\t0.150\n"
     ]
    }
   ],
   "source": [
    "# We take the average of percentages across tasks for each model.\n",
    "# to reduce the impact the different corpus size between tasks.\n",
    "header = ['model', 'both', 'bert', 'vl', 'neither']\n",
    "print(*header, sep='\\t')\n",
    "for model_name in target_models:\n",
    "    percentages = {set_name:[] for set_name in set_names}\n",
    "    for task in target_tasks:\n",
    "        n = sum(len(corpora[task][model_name][set_name]) for set_name in set_names)\n",
    "        for set_name in set_names:\n",
    "            percentages[set_name].append(len(corpora[task][model_name][set_name]) / n)\n",
    "    print(model_name, *['%.3f'%(np.asarray(percentages[_]).mean()) for _ in set_names], sep='\\t')"
   ]
  },
  {
   "cell_type": "markdown",
   "id": "dd5edeb4",
   "metadata": {},
   "source": [
    "### Show distributions"
   ]
  },
  {
   "cell_type": "code",
   "execution_count": 10,
   "id": "cfd0dacb",
   "metadata": {},
   "outputs": [],
   "source": [
    "import textstat\n",
    "import pandas\n",
    "import matplotlib"
   ]
  },
  {
   "cell_type": "code",
   "execution_count": 11,
   "id": "f2f15594",
   "metadata": {},
   "outputs": [
    {
     "data": {
      "image/png": "[encoded data removed]",
      "text/plain": [
       "<Figure size 432x288 with 1 Axes>"
      ]
     },
     "metadata": {
      "needs_background": "light"
     },
     "output_type": "display_data"
    }
   ],
   "source": [
    "# Dummy data to update font size\n",
    "pandas.DataFrame([0], columns = ['dummy']).hist()\n",
    "matplotlib.rcParams.update({'font.size': 18})"
   ]
  },
  {
   "cell_type": "code",
   "execution_count": 12,
   "id": "93893f8f",
   "metadata": {},
   "outputs": [],
   "source": [
    "def _show_hist(func, data_dir, model_name, display_name, target_tasks, ylim, xlim):\n",
    "    \"\"\" Show a distribution of a metric after applying a function (func) to the sentence in the sets.\n",
    "    We show the distributions of bert-only and vl model in a plot\n",
    "    \"\"\"\n",
    "    plot = None\n",
    "    \n",
    "    for set_name, n, color in [\n",
    "        ('bert', 'BERT-only', 'r'),\n",
    "        ('vl', display_name, 'b'),\n",
    "    ]:\n",
    "        sentences = []\n",
    "        for task in target_tasks:\n",
    "            fpath = os.path.join(data_dir, f'{task}-{model_name}-{set_name}.txt'.replace('/', '_'))\n",
    "            with open(fpath, 'r') as f:\n",
    "                sentences.extend(line.strip() for line in f.readlines())\n",
    "        \n",
    "        df = pandas.DataFrame(sentences, columns = [n])\n",
    "        x = df[n].apply(func)\n",
    "        print(n, color, len(x), x.mean(), x.std())\n",
    "        plot = x.hist(density=1, range=xlim, bins=40, alpha=0.4, color=color, legend=True)\n",
    "        if ylim is not None:\n",
    "            plot.set_ylim(ylim)\n",
    "    \n",
    "    return plot\n",
    "\n",
    "def show_hist_fkg(data_dir, model_name, display_name, target_tasks=target_tasks, ylim=(0, 0.15), xlim=(-5, 20)):\n",
    "    \"\"\"metric is flesch_kincaid_grade\"\"\"\n",
    "    return _show_hist(textstat.flesch_kincaid_grade, data_dir, model_name, display_name, target_tasks, ylim, xlim)\n",
    "\n",
    "def show_hist_len(data_dir, model_name, display_name, target_tasks=target_tasks, ylim=(0, 0.020), xlim=(0, 500)):\n",
    "    \"\"\"metric is length\"\"\"\n",
    "    return _show_hist(len, data_dir, model_name, display_name, target_tasks, ylim, xlim)"
   ]
  },
  {
   "cell_type": "code",
   "execution_count": 13,
   "id": "7ca93cb7",
   "metadata": {},
   "outputs": [],
   "source": [
    "# Flesch kincaid grade"
   ]
  },
  {
   "cell_type": "code",
   "execution_count": 14,
   "id": "06da2783",
   "metadata": {},
   "outputs": [
    {
     "name": "stdout",
     "output_type": "stream",
     "text": [
      "BERT-only r 6397 6.428607159606066 5.308449388554938\n",
      "VIS-only b 3930 6.214936386768448 5.169992249612948\n"
     ]
    },
    {
     "data": {
      "text/plain": [
       "<AxesSubplot:>"
      ]
     },
     "execution_count": 14,
     "metadata": {},
     "output_type": "execute_result"
    },
    {
     "data": {
      "image/png": "[encoded data removed]",
      "text/plain": [
       "<Figure size 432x288 with 1 Axes>"
      ]
     },
     "metadata": {
      "needs_background": "light"
     },
     "output_type": "display_data"
    }
   ],
   "source": [
    "show_hist_fkg(output_dir, 'ctrl_visual_bert', 'VIS-only')"
   ]
  },
  {
   "cell_type": "code",
   "execution_count": 15,
   "id": "61b66ef6",
   "metadata": {},
   "outputs": [
    {
     "name": "stdout",
     "output_type": "stream",
     "text": [
      "BERT-only r 6789 6.450508174988952 5.1894223865825015\n",
      "UNI-only b 3864 6.179296066252588 5.099305422018851\n"
     ]
    },
    {
     "data": {
      "text/plain": [
       "<AxesSubplot:>"
      ]
     },
     "execution_count": 15,
     "metadata": {},
     "output_type": "execute_result"
    },
    {
     "data": {
      "image/png": "[encoded data removed]",
      "text/plain": [
       "<Figure size 432x288 with 1 Axes>"
      ]
     },
     "metadata": {
      "needs_background": "light"
     },
     "output_type": "display_data"
    }
   ],
   "source": [
    "show_hist_fkg(output_dir, 'ctrl_uniter', 'UNI-only')"
   ]
  },
  {
   "cell_type": "code",
   "execution_count": 16,
   "id": "9bff1db0",
   "metadata": {},
   "outputs": [
    {
     "name": "stdout",
     "output_type": "stream",
     "text": [
      "BERT-only r 6888 6.498461091753774 5.215580244684472\n",
      "VL-only b 3762 6.181791600212653 5.13025037897512\n"
     ]
    },
    {
     "data": {
      "text/plain": [
       "<AxesSubplot:>"
      ]
     },
     "execution_count": 16,
     "metadata": {},
     "output_type": "execute_result"
    },
    {
     "data": {
      "image/png": "[encoded data removed]",
      "text/plain": [
       "<Figure size 432x288 with 1 Axes>"
      ]
     },
     "metadata": {
      "needs_background": "light"
     },
     "output_type": "display_data"
    }
   ],
   "source": [
    "show_hist_fkg(output_dir, 'ctrl_vl_bert', 'VL-only')"
   ]
  },
  {
   "cell_type": "code",
   "execution_count": 17,
   "id": "98ea18b6",
   "metadata": {},
   "outputs": [
    {
     "name": "stdout",
     "output_type": "stream",
     "text": [
      "BERT-only r 7735 6.518564964447317 5.3902860899262395\n",
      "LX-only b 3979 6.290525257602413 5.126963021574092\n"
     ]
    },
    {
     "data": {
      "text/plain": [
       "<AxesSubplot:>"
      ]
     },
     "execution_count": 17,
     "metadata": {},
     "output_type": "execute_result"
    },
    {
     "data": {
      "image/png": "[encoded data removed]",
      "text/plain": [
       "<Figure size 432x288 with 1 Axes>"
      ]
     },
     "metadata": {
      "needs_background": "light"
     },
     "output_type": "display_data"
    }
   ],
   "source": [
    "show_hist_fkg(output_dir, 'ctrl_lxmert', 'LX-only')"
   ]
  },
  {
   "cell_type": "code",
   "execution_count": 18,
   "id": "f2376bb7",
   "metadata": {},
   "outputs": [
    {
     "name": "stdout",
     "output_type": "stream",
     "text": [
      "BERT-only r 8183 6.455578638641085 5.207022677773497\n",
      "VIL-only b 4043 6.235938659411328 5.023145048012891\n"
     ]
    },
    {
     "data": {
      "text/plain": [
       "<AxesSubplot:>"
      ]
     },
     "execution_count": 18,
     "metadata": {},
     "output_type": "execute_result"
    },
    {
     "data": {
      "image/png": "[encoded data removed]",
      "text/plain": [
       "<Figure size 432x288 with 1 Axes>"
      ]
     },
     "metadata": {
      "needs_background": "light"
     },
     "output_type": "display_data"
    }
   ],
   "source": [
    "show_hist_fkg(output_dir, 'ctrl_vilbert', 'VIL-only')"
   ]
  },
  {
   "cell_type": "code",
   "execution_count": 19,
   "id": "f8f5e5da",
   "metadata": {},
   "outputs": [],
   "source": [
    "# Sentence length"
   ]
  },
  {
   "cell_type": "code",
   "execution_count": 20,
   "id": "ceeac154",
   "metadata": {},
   "outputs": [
    {
     "name": "stdout",
     "output_type": "stream",
     "text": [
      "BERT-only r 6397 77.03751758636861 64.9670563986179\n",
      "VIS-only b 3930 74.73027989821882 62.343146207307626\n"
     ]
    },
    {
     "data": {
      "text/plain": [
       "<AxesSubplot:>"
      ]
     },
     "execution_count": 20,
     "metadata": {},
     "output_type": "execute_result"
    },
    {
     "data": {
      "image/png": "[encoded data removed]",
      "text/plain": [
       "<Figure size 432x288 with 1 Axes>"
      ]
     },
     "metadata": {
      "needs_background": "light"
     },
     "output_type": "display_data"
    }
   ],
   "source": [
    "show_hist_len(output_dir, 'ctrl_visual_bert', 'VIS-only')"
   ]
  },
  {
   "cell_type": "code",
   "execution_count": 21,
   "id": "1bc6b6f9",
   "metadata": {},
   "outputs": [
    {
     "name": "stdout",
     "output_type": "stream",
     "text": [
      "BERT-only r 6789 76.337899543379 62.11309810470672\n",
      "UNI-only b 3864 74.54373706004141 61.180920214565454\n"
     ]
    },
    {
     "data": {
      "text/plain": [
       "<AxesSubplot:>"
      ]
     },
     "execution_count": 21,
     "metadata": {},
     "output_type": "execute_result"
    },
    {
     "data": {
      "image/png": "[encoded data removed]",
      "text/plain": [
       "<Figure size 432x288 with 1 Axes>"
      ]
     },
     "metadata": {
      "needs_background": "light"
     },
     "output_type": "display_data"
    }
   ],
   "source": [
    "show_hist_len(output_dir, 'ctrl_uniter', 'UNI-only')"
   ]
  },
  {
   "cell_type": "code",
   "execution_count": 22,
   "id": "64e6e1d4",
   "metadata": {},
   "outputs": [
    {
     "name": "stdout",
     "output_type": "stream",
     "text": [
      "BERT-only r 6888 76.76132404181185 63.045731679131\n",
      "VL-only b 3762 74.74534821903244 63.51734892418168\n"
     ]
    },
    {
     "data": {
      "text/plain": [
       "<AxesSubplot:>"
      ]
     },
     "execution_count": 22,
     "metadata": {},
     "output_type": "execute_result"
    },
    {
     "data": {
      "image/png": "[encoded data removed]",
      "text/plain": [
       "<Figure size 432x288 with 1 Axes>"
      ]
     },
     "metadata": {
      "needs_background": "light"
     },
     "output_type": "display_data"
    }
   ],
   "source": [
    "show_hist_len(output_dir, 'ctrl_vl_bert', 'VL-only')"
   ]
  },
  {
   "cell_type": "code",
   "execution_count": 23,
   "id": "ab28f3f2",
   "metadata": {},
   "outputs": [
    {
     "name": "stdout",
     "output_type": "stream",
     "text": [
      "BERT-only r 7735 77.65804783451843 65.41459800641302\n",
      "LX-only b 3979 75.89444584066348 62.993159761878836\n"
     ]
    },
    {
     "data": {
      "text/plain": [
       "<AxesSubplot:>"
      ]
     },
     "execution_count": 23,
     "metadata": {},
     "output_type": "execute_result"
    },
    {
     "data": {
      "image/png": "[encoded data removed]",
      "text/plain": [
       "<Figure size 432x288 with 1 Axes>"
      ]
     },
     "metadata": {
      "needs_background": "light"
     },
     "output_type": "display_data"
    }
   ],
   "source": [
    "show_hist_len(output_dir, 'ctrl_lxmert', 'LX-only')"
   ]
  },
  {
   "cell_type": "code",
   "execution_count": 24,
   "id": "2b050c46",
   "metadata": {},
   "outputs": [
    {
     "name": "stdout",
     "output_type": "stream",
     "text": [
      "BERT-only r 8183 77.09275326897226 62.29826557735237\n",
      "VIL-only b 4043 74.75587435072966 59.49632741397288\n"
     ]
    },
    {
     "data": {
      "text/plain": [
       "<AxesSubplot:>"
      ]
     },
     "execution_count": 24,
     "metadata": {},
     "output_type": "execute_result"
    },
    {
     "data": {
      "image/png": "[encoded data removed]",
      "text/plain": [
       "<Figure size 432x288 with 1 Axes>"
      ]
     },
     "metadata": {
      "needs_background": "light"
     },
     "output_type": "display_data"
    }
   ],
   "source": [
    "show_hist_len(output_dir, 'ctrl_vilbert', 'VIL-only')"
   ]
  },
  {
   "cell_type": "code",
   "execution_count": null,
   "id": "18e95380",
   "metadata": {},
   "outputs": [],
   "source": []
  }
 ],
 "metadata": {
  "kernelspec": {
   "display_name": "Python 3 (ipykernel)",
   "language": "python",
   "name": "python3"
  },
  "language_info": {
   "codemirror_mode": {
    "name": "ipython",
    "version": 3
   },
   "file_extension": ".py",
   "mimetype": "text/x-python",
   "name": "python",
   "nbconvert_exporter": "python",
   "pygments_lexer": "ipython3",
   "version": "3.9.1"
  }
 },
 "nbformat": 4,
 "nbformat_minor": 5
}
