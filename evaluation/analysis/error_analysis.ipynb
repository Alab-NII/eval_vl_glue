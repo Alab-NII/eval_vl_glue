{
 "cells": [
  {
   "cell_type": "markdown",
   "id": "c58e52fd",
   "metadata": {},
   "source": [
    "# Error Analysis\n",
    "This notebook first creates prediction files on the validation set of each task and run.\n",
    "Then it analyze those prediction files."
   ]
  },
  {
   "cell_type": "markdown",
   "id": "454d77a9",
   "metadata": {},
   "source": [
    "## Make prediction files"
   ]
  },
  {
   "cell_type": "code",
   "execution_count": null,
   "id": "0fb181b4",
   "metadata": {},
   "outputs": [],
   "source": [
    "# Enumerate the best models that have the minimum losses for each run\n",
    "# A table best_models.txt will be output in the anaysis directory\n",
    "!python enumerate_best_models.py -r ../../vl_models/finetuned > best_models.txt"
   ]
  },
  {
   "cell_type": "code",
   "execution_count": null,
   "id": "4e6f81fd",
   "metadata": {},
   "outputs": [],
   "source": [
    "# Predict labels with those best models\n",
    "# prediction directory will be created in the anaysis directory and \n",
    "# prediction will be stored in the sub-directoryies that corresponds to model directories.\n",
    "# We output strings in dump.log because they are too long to show in a notebook.\n",
    "!./batch_dump.sh best_models.txt > dump.log 2>&1"
   ]
  },
  {
   "cell_type": "markdown",
   "id": "8f205f81",
   "metadata": {},
   "source": [
    "## Calculate distribution \n",
    "We analyze the distributions of sentence lengths and readability here.\n",
    "- Make sentence sets (both solvable, vl-only, bert-only and neither) for each model family from those dump files.\n",
    "- Calculate their statiistics"
   ]
  },
  {
   "cell_type": "code",
   "execution_count": null,
   "id": "e8e8a59f",
   "metadata": {},
   "outputs": [],
   "source": [
    "# We install packages for this analysis before entering the detail\n",
    "# We use textstat to calculate readability\n",
    "!pip install textstat pandas matplotlib"
   ]
  },
  {
   "cell_type": "markdown",
   "id": "0c1177b6",
   "metadata": {},
   "source": [
    "### Make sentence sets"
   ]
  },
  {
   "cell_type": "code",
   "execution_count": null,
   "id": "e33e9deb",
   "metadata": {},
   "outputs": [],
   "source": [
    "# todo"
   ]
  },
  {
   "cell_type": "markdown",
   "id": "dd5edeb4",
   "metadata": {},
   "source": [
    "### Show statistics"
   ]
  },
  {
   "cell_type": "code",
   "execution_count": null,
   "id": "cfd0dacb",
   "metadata": {},
   "outputs": [],
   "source": [
    "import textstat\n",
    "import pandas\n",
    "import matplotlib"
   ]
  },
  {
   "cell_type": "code",
   "execution_count": null,
   "id": "f2f15594",
   "metadata": {},
   "outputs": [],
   "source": [
    "# Dummy data to update font size\n",
    "pandas.DataFrame([0], columns = ['dummy']).hist()\n",
    "matplotlib.rcParams.update({'font.size': 18})"
   ]
  },
  {
   "cell_type": "code",
   "execution_count": null,
   "id": "93893f8f",
   "metadata": {},
   "outputs": [],
   "source": [
    "def _show_hist(func, prefix, name, ylim=None, xlim=(-5, 20)):\n",
    "    \"\"\" Show a distribution of a metric after applying a function (func) to the sentence in the sets.\n",
    "    We show the distributions of bert-only and vl model in a plot\n",
    "    \"\"\"\n",
    "    plot = None\n",
    "    \n",
    "    for fname, n, color in [\n",
    "        (prefix+'_bert.txt', 'BERT-only', 'r'),\n",
    "        (prefix+'_vl.txt', name, 'b'),\n",
    "    ]:\n",
    "        with open(fname, 'r') as f:\n",
    "            df = pandas.DataFrame((_.strip() for _ in f.readlines()), columns = [n])\n",
    "        x = df[n].apply(func)\n",
    "        print(n, color, len(x), x.mean(), x.std())\n",
    "        plot = x.hist(density=1, range=xlim, bins=40, alpha=0.4, color=color, legend=True)\n",
    "        if ylim is not None:\n",
    "            plot.set_ylim(ylim)\n",
    "    \n",
    "    return plot\n",
    "\n",
    "def show_hist_fkg(prefix, name, ylim=None, xlim=(-5, 20)):\n",
    "    \"\"\"metric is flesch_kincaid_grade\"\"\"\n",
    "    return _show_hist(textstat.flesch_kincaid_grade, prefix, name, ylim, xlim)\n",
    "\n",
    "def show_hist_len(prefix, name, ylim=(0, 0.020), xlim=(0, 500)):\n",
    "    \"\"\"metric is length\"\"\"\n",
    "    return _show_hist(len, prefix, name, ylim, xlim)"
   ]
  },
  {
   "cell_type": "code",
   "execution_count": null,
   "id": "7ca93cb7",
   "metadata": {},
   "outputs": [],
   "source": [
    "# Flesch kincaid grade"
   ]
  },
  {
   "cell_type": "code",
   "execution_count": null,
   "id": "06da2783",
   "metadata": {},
   "outputs": [],
   "source": [
    "show_hist_fkg('error_analysis_combined/ctrl_visual_bert_base', 'VIS-only', ylim=(0, 0.15))"
   ]
  },
  {
   "cell_type": "code",
   "execution_count": null,
   "id": "61b66ef6",
   "metadata": {},
   "outputs": [],
   "source": [
    "show_hist_fkg('error_analysis_combined/ctrl_uniter_base', 'UNI-only', ylim=(0, 0.15))"
   ]
  },
  {
   "cell_type": "code",
   "execution_count": null,
   "id": "9bff1db0",
   "metadata": {},
   "outputs": [],
   "source": [
    "show_hist_fkg('error_analysis_combined/ctrl_vl_bert_base', 'VL-only', ylim=(0, 0.15))"
   ]
  },
  {
   "cell_type": "code",
   "execution_count": null,
   "id": "98ea18b6",
   "metadata": {},
   "outputs": [],
   "source": [
    "show_hist_fkg('error_analysis_combined/ctrl_lxmert_base_new', 'LX-only',  ylim=(0, 0.15))"
   ]
  },
  {
   "cell_type": "code",
   "execution_count": null,
   "id": "f2376bb7",
   "metadata": {},
   "outputs": [],
   "source": [
    "show_hist_fkg('error_analysis_combined/ctrl_vilbert_base', 'VIL-only', ylim=(0, 0.15))"
   ]
  },
  {
   "cell_type": "code",
   "execution_count": null,
   "id": "f8f5e5da",
   "metadata": {},
   "outputs": [],
   "source": [
    "# Sentence length"
   ]
  },
  {
   "cell_type": "code",
   "execution_count": null,
   "id": "ceeac154",
   "metadata": {},
   "outputs": [],
   "source": [
    "show_hist_len('error_analysis_combined/ctrl_visual_bert_base', 'VIS-only')"
   ]
  },
  {
   "cell_type": "code",
   "execution_count": null,
   "id": "1bc6b6f9",
   "metadata": {},
   "outputs": [],
   "source": [
    "show_hist_len('error_analysis_combined/ctrl_uniter_base', 'UNI-only')"
   ]
  },
  {
   "cell_type": "code",
   "execution_count": null,
   "id": "64e6e1d4",
   "metadata": {},
   "outputs": [],
   "source": [
    "show_hist_len('error_analysis_combined/ctrl_vl_bert_base', 'VL-only')"
   ]
  },
  {
   "cell_type": "code",
   "execution_count": null,
   "id": "ab28f3f2",
   "metadata": {},
   "outputs": [],
   "source": [
    "show_hist_len('error_analysis_combined/ctrl_lxmert_base_new', 'LX-only')"
   ]
  },
  {
   "cell_type": "code",
   "execution_count": null,
   "id": "2b050c46",
   "metadata": {},
   "outputs": [],
   "source": [
    "show_hist_len('error_analysis_combined/ctrl_vilbert_base', 'VIL-only')"
   ]
  },
  {
   "cell_type": "code",
   "execution_count": null,
   "id": "c4d29ab3",
   "metadata": {},
   "outputs": [],
   "source": []
  }
 ],
 "metadata": {
  "kernelspec": {
   "display_name": "Python 3",
   "language": "python",
   "name": "python3"
  },
  "language_info": {
   "codemirror_mode": {
    "name": "ipython",
    "version": 3
   },
   "file_extension": ".py",
   "mimetype": "text/x-python",
   "name": "python",
   "nbconvert_exporter": "python",
   "pygments_lexer": "ipython3",
   "version": "3.6.9"
  }
 },
 "nbformat": 4,
 "nbformat_minor": 5
}
