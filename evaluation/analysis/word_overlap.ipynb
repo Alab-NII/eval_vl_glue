{
 "cells": [
  {
   "cell_type": "markdown",
   "id": "c942b5c7",
   "metadata": {},
   "source": [
    "# Word Overlap\n",
    "Calculate word overlap between corpora.  \n",
    "We use Conceptual Captions corpus in this notebook.  \n",
    "Make sure that the conceptual_captions directory exists in the working directory.  \n",
    "The conceptual_captions directory is expected to have the following files:  \n",
    "- Train_GCC-training.tsv\n",
    "- Validation_GCC-1.1.0-Validation.tsv\n",
    "- train_ids.txt\n",
    "- valid_ids.txt\n",
    "\n",
    "The tsv files are available at https://ai.google.com/research/ConceptualCaptions/download  \n",
    "The txt file are avaiable at https://github.com/e-bug/volta/tree/main/data/conceptual_captions  "
   ]
  },
  {
   "cell_type": "code",
   "execution_count": 1,
   "id": "0170a455",
   "metadata": {},
   "outputs": [
    {
     "name": "stdout",
     "output_type": "stream",
     "text": [
      "Requirement already satisfied: nltk in /data/eval_vl_glue/venv/lib/python3.6/site-packages (3.6.2)\n",
      "Requirement already satisfied: regex in /data/eval_vl_glue/venv/lib/python3.6/site-packages (from nltk) (2021.8.28)\n",
      "Requirement already satisfied: joblib in /data/eval_vl_glue/venv/lib/python3.6/site-packages (from nltk) (1.0.1)\n",
      "Requirement already satisfied: click in /data/eval_vl_glue/venv/lib/python3.6/site-packages (from nltk) (8.0.1)\n",
      "Requirement already satisfied: tqdm in /data/eval_vl_glue/venv/lib/python3.6/site-packages (from nltk) (4.62.2)\n",
      "Requirement already satisfied: importlib-metadata in /data/eval_vl_glue/venv/lib/python3.6/site-packages (from click->nltk) (4.8.1)\n",
      "Requirement already satisfied: zipp>=0.5 in /data/eval_vl_glue/venv/lib/python3.6/site-packages (from importlib-metadata->click->nltk) (3.5.0)\n",
      "Requirement already satisfied: typing-extensions>=3.6.4 in /data/eval_vl_glue/venv/lib/python3.6/site-packages (from importlib-metadata->click->nltk) (3.10.0.2)\n"
     ]
    }
   ],
   "source": [
    "# We use nltk to obtain the English stopwords\n",
    "!pip install nltk"
   ]
  },
  {
   "cell_type": "code",
   "execution_count": 2,
   "id": "1d9e3ce9",
   "metadata": {},
   "outputs": [],
   "source": [
    "import os\n",
    "import json\n",
    "import numpy as np\n",
    "from scipy.spatial import distance\n",
    "import nltk\n",
    "import datasets\n",
    "from conceptual_captions import ConceptualCaptionsTextDataset"
   ]
  },
  {
   "cell_type": "code",
   "execution_count": 3,
   "id": "905bd842",
   "metadata": {},
   "outputs": [
    {
     "name": "stderr",
     "output_type": "stream",
     "text": [
      "[nltk_data] Downloading package stopwords to\n",
      "[nltk_data]     /home/ikitaichi/nltk_data...\n",
      "[nltk_data]   Package stopwords is already up-to-date!\n"
     ]
    },
    {
     "data": {
      "text/plain": [
       "True"
      ]
     },
     "execution_count": 3,
     "metadata": {},
     "output_type": "execute_result"
    }
   ],
   "source": [
    "nltk.download('stopwords')"
   ]
  },
  {
   "cell_type": "code",
   "execution_count": 4,
   "id": "b08c49c5",
   "metadata": {},
   "outputs": [],
   "source": [
    "# The GLUE tasks\n",
    "task_to_keys = {\n",
    "    \"cola\": (\"sentence\", None),\n",
    "    \"mnli\": (\"premise\", \"hypothesis\"),\n",
    "    \"mrpc\": (\"sentence1\", \"sentence2\"),\n",
    "    \"qnli\": (\"question\", \"sentence\"),\n",
    "    \"qqp\": (\"question1\", \"question2\"),\n",
    "    \"rte\": (\"sentence1\", \"sentence2\"),\n",
    "    \"sst2\": (\"sentence\", None),\n",
    "    \"stsb\": (\"sentence1\", \"sentence2\"),\n",
    "    \"wnli\": (\"sentence1\", \"sentence2\"),\n",
    "    'cc': ('sentence', None)\n",
    "}"
   ]
  },
  {
   "cell_type": "code",
   "execution_count": 5,
   "id": "fb364551",
   "metadata": {},
   "outputs": [],
   "source": [
    "def load_dataset(task):\n",
    "    if task == 'cc':\n",
    "        return ConceptualCaptionsTextDataset()\n",
    "    return datasets.load_dataset('glue', task)"
   ]
  },
  {
   "cell_type": "code",
   "execution_count": 6,
   "id": "bed854c5",
   "metadata": {},
   "outputs": [],
   "source": [
    "def word_count(dataset_split, keys, do_uncase):\n",
    "    \"\"\"Count words in the sentences specified with keys in a dataset split.\n",
    "    Returns a dict {word: count}\"\"\"\n",
    "    counter = {}\n",
    "    for i in range(len(dataset_split)):\n",
    "        example = dataset_split[i]\n",
    "        for key in keys:\n",
    "            text = example[key]\n",
    "            if do_uncase:\n",
    "                text = text.lower()\n",
    "            for word in text.split():\n",
    "                counter[word] = counter.get(word, 0) + 1\n",
    "    return counter"
   ]
  },
  {
   "cell_type": "code",
   "execution_count": 7,
   "id": "a8bda6ca",
   "metadata": {},
   "outputs": [],
   "source": [
    "def calc_word_overlap(count1, count2, stop_words=[], top_k=None):\n",
    "    \"\"\"Calculate simpson coefficient between c1 and c2\"\"\"\n",
    "    def preprocess(c):\n",
    "        sorted_c = sorted(c.items(), key=lambda t: -t[-1]) # descending order\n",
    "        f = [w for w, _ in sorted_c if w not in stop_words]\n",
    "        return f[:top_k] if top_k is not None else f\n",
    "    \n",
    "    s1 = set(preprocess(count1))\n",
    "    s2 = set(preprocess(count2))\n",
    "    \n",
    "    return len(s1 & s2) / min(len(s1), len(s2))"
   ]
  },
  {
   "cell_type": "code",
   "execution_count": 8,
   "id": "17111a73",
   "metadata": {},
   "outputs": [],
   "source": [
    "def calc_jaccard(count1, count2, stop_words=[], top_k=None):\n",
    "    \"\"\"Calculate simpson coefficient between c1 and c2\"\"\"\n",
    "    def preprocess(c):\n",
    "        sorted_c = sorted(c.items(), key=lambda t: -t[-1]) # descending order\n",
    "        f = [w for w, _ in sorted_c if w not in stop_words]\n",
    "        return f[:top_k] if top_k is not None else f\n",
    "    \n",
    "    s1 = set(preprocess(count1))\n",
    "    s2 = set(preprocess(count2))\n",
    "    \n",
    "    return len(s1 & s2) / len(s1 | s2)"
   ]
  },
  {
   "cell_type": "code",
   "execution_count": 9,
   "id": "85b4a35f",
   "metadata": {},
   "outputs": [],
   "source": [
    "# Configuration\n",
    "# We uncased sentences and splited them with white spaces.\n",
    "# After removing stop words (defined in nltk), we used up to the top 10,000 words to calculate the Simpson coefficient.\n",
    "do_uncase = True\n",
    "stop_words = nltk.corpus.stopwords.words('english')\n",
    "top_k = 10000\n",
    "ref_split = 'cc_train'\n",
    "header = ['ref_split', '_id', 'n_examples', 'keys', 'do_uncase', 'vocab_size', 'overlap', 'jaccard']"
   ]
  },
  {
   "cell_type": "code",
   "execution_count": 10,
   "id": "50d1f6e1",
   "metadata": {},
   "outputs": [
    {
     "name": "stdout",
     "output_type": "stream",
     "text": [
      "['i', 'me', 'my', 'myself', 'we', 'our', 'ours', 'ourselves', 'you', \"you're\", \"you've\", \"you'll\", \"you'd\", 'your', 'yours', 'yourself', 'yourselves', 'he', 'him', 'his', 'himself', 'she', \"she's\", 'her', 'hers', 'herself', 'it', \"it's\", 'its', 'itself', 'they', 'them', 'their', 'theirs', 'themselves', 'what', 'which', 'who', 'whom', 'this', 'that', \"that'll\", 'these', 'those', 'am', 'is', 'are', 'was', 'were', 'be', 'been', 'being', 'have', 'has', 'had', 'having', 'do', 'does', 'did', 'doing', 'a', 'an', 'the', 'and', 'but', 'if', 'or', 'because', 'as', 'until', 'while', 'of', 'at', 'by', 'for', 'with', 'about', 'against', 'between', 'into', 'through', 'during', 'before', 'after', 'above', 'below', 'to', 'from', 'up', 'down', 'in', 'out', 'on', 'off', 'over', 'under', 'again', 'further', 'then', 'once', 'here', 'there', 'when', 'where', 'why', 'how', 'all', 'any', 'both', 'each', 'few', 'more', 'most', 'other', 'some', 'such', 'no', 'nor', 'not', 'only', 'own', 'same', 'so', 'than', 'too', 'very', 's', 't', 'can', 'will', 'just', 'don', \"don't\", 'should', \"should've\", 'now', 'd', 'll', 'm', 'o', 're', 've', 'y', 'ain', 'aren', \"aren't\", 'couldn', \"couldn't\", 'didn', \"didn't\", 'doesn', \"doesn't\", 'hadn', \"hadn't\", 'hasn', \"hasn't\", 'haven', \"haven't\", 'isn', \"isn't\", 'ma', 'mightn', \"mightn't\", 'mustn', \"mustn't\", 'needn', \"needn't\", 'shan', \"shan't\", 'shouldn', \"shouldn't\", 'wasn', \"wasn't\", 'weren', \"weren't\", 'won', \"won't\", 'wouldn', \"wouldn't\"]\n"
     ]
    }
   ],
   "source": [
    "#  Stop words\n",
    "print(stop_words)"
   ]
  },
  {
   "cell_type": "code",
   "execution_count": 11,
   "id": "79dfa377",
   "metadata": {},
   "outputs": [
    {
     "name": "stderr",
     "output_type": "stream",
     "text": [
      "Reusing dataset glue (/home/ikitaichi/.cache/huggingface/datasets/glue/cola/1.0.0/dacbe3125aa31d7f70367a07a8a9e72a5a0bfeb5fc42e75c9db75b96da6053ad)\n"
     ]
    },
    {
     "data": {
      "application/vnd.jupyter.widget-view+json": {
       "model_id": "2538f5b57a794b1aa618f08cae102012",
       "version_major": 2,
       "version_minor": 0
      },
      "text/plain": [
       "  0%|          | 0/3 [00:00<?, ?it/s]"
      ]
     },
     "metadata": {},
     "output_type": "display_data"
    },
    {
     "name": "stderr",
     "output_type": "stream",
     "text": [
      "Reusing dataset glue (/home/ikitaichi/.cache/huggingface/datasets/glue/mnli/1.0.0/dacbe3125aa31d7f70367a07a8a9e72a5a0bfeb5fc42e75c9db75b96da6053ad)\n"
     ]
    },
    {
     "data": {
      "application/vnd.jupyter.widget-view+json": {
       "model_id": "a9501f04f461417ab7d3f7ef86d2196a",
       "version_major": 2,
       "version_minor": 0
      },
      "text/plain": [
       "  0%|          | 0/5 [00:00<?, ?it/s]"
      ]
     },
     "metadata": {},
     "output_type": "display_data"
    },
    {
     "name": "stderr",
     "output_type": "stream",
     "text": [
      "Reusing dataset glue (/home/ikitaichi/.cache/huggingface/datasets/glue/mrpc/1.0.0/dacbe3125aa31d7f70367a07a8a9e72a5a0bfeb5fc42e75c9db75b96da6053ad)\n"
     ]
    },
    {
     "data": {
      "application/vnd.jupyter.widget-view+json": {
       "model_id": "3d77d4280c8f4970812be517fd963772",
       "version_major": 2,
       "version_minor": 0
      },
      "text/plain": [
       "  0%|          | 0/3 [00:00<?, ?it/s]"
      ]
     },
     "metadata": {},
     "output_type": "display_data"
    },
    {
     "name": "stderr",
     "output_type": "stream",
     "text": [
      "Reusing dataset glue (/home/ikitaichi/.cache/huggingface/datasets/glue/qnli/1.0.0/dacbe3125aa31d7f70367a07a8a9e72a5a0bfeb5fc42e75c9db75b96da6053ad)\n"
     ]
    },
    {
     "data": {
      "application/vnd.jupyter.widget-view+json": {
       "model_id": "b3172c9d81ee409abe0e8564cfa42bf3",
       "version_major": 2,
       "version_minor": 0
      },
      "text/plain": [
       "  0%|          | 0/3 [00:00<?, ?it/s]"
      ]
     },
     "metadata": {},
     "output_type": "display_data"
    },
    {
     "name": "stderr",
     "output_type": "stream",
     "text": [
      "Reusing dataset glue (/home/ikitaichi/.cache/huggingface/datasets/glue/qqp/1.0.0/dacbe3125aa31d7f70367a07a8a9e72a5a0bfeb5fc42e75c9db75b96da6053ad)\n"
     ]
    },
    {
     "data": {
      "application/vnd.jupyter.widget-view+json": {
       "model_id": "7ff16b89f5184a8990b730a1b822ad48",
       "version_major": 2,
       "version_minor": 0
      },
      "text/plain": [
       "  0%|          | 0/3 [00:00<?, ?it/s]"
      ]
     },
     "metadata": {},
     "output_type": "display_data"
    },
    {
     "name": "stderr",
     "output_type": "stream",
     "text": [
      "Reusing dataset glue (/home/ikitaichi/.cache/huggingface/datasets/glue/rte/1.0.0/dacbe3125aa31d7f70367a07a8a9e72a5a0bfeb5fc42e75c9db75b96da6053ad)\n"
     ]
    },
    {
     "data": {
      "application/vnd.jupyter.widget-view+json": {
       "model_id": "1bc7c478fe4e464cbd4faf29daa293b6",
       "version_major": 2,
       "version_minor": 0
      },
      "text/plain": [
       "  0%|          | 0/3 [00:00<?, ?it/s]"
      ]
     },
     "metadata": {},
     "output_type": "display_data"
    },
    {
     "name": "stderr",
     "output_type": "stream",
     "text": [
      "Reusing dataset glue (/home/ikitaichi/.cache/huggingface/datasets/glue/sst2/1.0.0/dacbe3125aa31d7f70367a07a8a9e72a5a0bfeb5fc42e75c9db75b96da6053ad)\n"
     ]
    },
    {
     "data": {
      "application/vnd.jupyter.widget-view+json": {
       "model_id": "4101eadb10784ec09ae5a14bf0589b90",
       "version_major": 2,
       "version_minor": 0
      },
      "text/plain": [
       "  0%|          | 0/3 [00:00<?, ?it/s]"
      ]
     },
     "metadata": {},
     "output_type": "display_data"
    },
    {
     "name": "stderr",
     "output_type": "stream",
     "text": [
      "Reusing dataset glue (/home/ikitaichi/.cache/huggingface/datasets/glue/stsb/1.0.0/dacbe3125aa31d7f70367a07a8a9e72a5a0bfeb5fc42e75c9db75b96da6053ad)\n"
     ]
    },
    {
     "data": {
      "application/vnd.jupyter.widget-view+json": {
       "model_id": "ac4334cb57294f59a698aad7647af5be",
       "version_major": 2,
       "version_minor": 0
      },
      "text/plain": [
       "  0%|          | 0/3 [00:00<?, ?it/s]"
      ]
     },
     "metadata": {},
     "output_type": "display_data"
    },
    {
     "name": "stderr",
     "output_type": "stream",
     "text": [
      "Reusing dataset glue (/home/ikitaichi/.cache/huggingface/datasets/glue/wnli/1.0.0/dacbe3125aa31d7f70367a07a8a9e72a5a0bfeb5fc42e75c9db75b96da6053ad)\n"
     ]
    },
    {
     "data": {
      "application/vnd.jupyter.widget-view+json": {
       "model_id": "84133636b33f4f71ae7e91f2eabcbcb7",
       "version_major": 2,
       "version_minor": 0
      },
      "text/plain": [
       "  0%|          | 0/3 [00:00<?, ?it/s]"
      ]
     },
     "metadata": {},
     "output_type": "display_data"
    }
   ],
   "source": [
    "# Calculate word counts for all copora\n",
    "targets = []\n",
    "targets.extend((task, 'train') for task in task_to_keys.keys())\n",
    "targets.append(('cc', 'train'))\n",
    "targets.append(('cc', 'valid'))\n",
    "\n",
    "corpus_data = {}\n",
    "for task, split  in targets:\n",
    "    _id = f'{task}_{split}'\n",
    "    keys = tuple(key for key in task_to_keys[task] if key)\n",
    "    dataset = load_dataset(task)\n",
    "    count = word_count(dataset[split], keys, do_uncase)\n",
    "    corpus_data[_id] = {\n",
    "        '_id': _id,\n",
    "        'n_examples': len(dataset[split]),\n",
    "        'keys': keys,\n",
    "        'do_uncase': do_uncase,\n",
    "        'vocab_size': len(count),\n",
    "        'count': count,\n",
    "    }"
   ]
  },
  {
   "cell_type": "code",
   "execution_count": 12,
   "id": "de56fcdd",
   "metadata": {},
   "outputs": [
    {
     "name": "stdout",
     "output_type": "stream",
     "text": [
      "ref_split\t_id\tn_examples\tkeys\tdo_uncase\tvocab_size\toverlap\tjaccard\n",
      "cc_train\tcc_train\t2779407\t('sentence',)\tTrue\t48360\t1.0\t1.0\n",
      "cc_train\tcc_valid\t14464\t('sentence',)\tTrue\t10442\t0.7734\t0.6305233980107614\n",
      "cc_train\tcola_train\t8551\t('sentence',)\tTrue\t7845\t0.35630841121495327\t0.18350157096062572\n",
      "cc_train\tmnli_train\t392702\t('premise', 'hypothesis')\tTrue\t167790\t0.5021\t0.33520261699712933\n",
      "cc_train\tmrpc_train\t3668\t('sentence1', 'sentence2')\tTrue\t13926\t0.4006\t0.2504689258471927\n",
      "cc_train\tqnli_train\t104743\t('question', 'sentence')\tTrue\t148413\t0.4431\t0.2846040208105851\n",
      "cc_train\tqqp_train\t363846\t('question1', 'question2')\tTrue\t193041\t0.4282\t0.27242651736862195\n",
      "cc_train\trte_train\t2490\t('sentence1', 'sentence2')\tTrue\t23341\t0.3751\t0.23084497507538926\n",
      "cc_train\tsst2_train\t67349\t('sentence',)\tTrue\t14816\t0.4025\t0.2519561815336463\n",
      "cc_train\tstsb_train\t5749\t('sentence1', 'sentence2')\tTrue\t16436\t0.3938\t0.24517494708006474\n",
      "cc_train\twnli_train\t635\t('sentence1', 'sentence2')\tTrue\t1622\t0.4990072799470549\t0.07009389234916798\n"
     ]
    }
   ],
   "source": [
    "# Output the table\n",
    "print(*header, sep='\\t')\n",
    "for _id, data in sorted(corpus_data.items()):\n",
    "    data = data.copy()\n",
    "    data['ref_split'] = ref_split\n",
    "    data['overlap'] = calc_word_overlap(corpus_data[ref_split]['count'], data['count'], stop_words, 10000)\n",
    "    data['jaccard'] = calc_jaccard(corpus_data[ref_split]['count'], data['count'], stop_words, 10000)\n",
    "    print(*[data[_] for _ in header], sep='\\t')"
   ]
  },
  {
   "cell_type": "code",
   "execution_count": null,
   "id": "475ec549",
   "metadata": {},
   "outputs": [],
   "source": []
  }
 ],
 "metadata": {
  "kernelspec": {
   "display_name": "Python 3",
   "language": "python",
   "name": "python3"
  },
  "language_info": {
   "codemirror_mode": {
    "name": "ipython",
    "version": 3
   },
   "file_extension": ".py",
   "mimetype": "text/x-python",
   "name": "python",
   "nbconvert_exporter": "python",
   "pygments_lexer": "ipython3",
   "version": "3.6.9"
  }
 },
 "nbformat": 4,
 "nbformat_minor": 5
}
